{
  "nbformat": 4,
  "nbformat_minor": 0,
  "metadata": {
    "colab": {
      "provenance": [],
      "collapsed_sections": [
        "q0zSTKLVJv8f",
        "ylHIRemTJ3iP",
        "-LwkOZoMLh39"
      ],
      "authorship_tag": "ABX9TyMyyxiBsDR2m3HS2cWJxiDL",
      "include_colab_link": true
    },
    "kernelspec": {
      "name": "python3",
      "display_name": "Python 3"
    },
    "language_info": {
      "name": "python"
    }
  },
  "cells": [
    {
      "cell_type": "markdown",
      "metadata": {
        "id": "view-in-github",
        "colab_type": "text"
      },
      "source": [
        "<a href=\"https://colab.research.google.com/github/pandu1992/BINUSxDana/blob/main/Intro_to_Python_and_Statistics.ipynb\" target=\"_parent\"><img src=\"https://colab.research.google.com/assets/colab-badge.svg\" alt=\"Open In Colab\"/></a>"
      ]
    },
    {
      "cell_type": "markdown",
      "source": [
        "# Step 1: Menjalankan Kode Python di Google Colab"
      ],
      "metadata": {
        "id": "q0zSTKLVJv8f"
      }
    },
    {
      "cell_type": "code",
      "execution_count": 4,
      "metadata": {
        "colab": {
          "base_uri": "https://localhost:8080/"
        },
        "id": "Fj7EBHTbEgUl",
        "outputId": "990ddf5b-0a5c-4b4f-8254-a5bdd9a07567"
      },
      "outputs": [
        {
          "output_type": "stream",
          "name": "stdout",
          "text": [
            "Selamat datang di Google Colab!\n",
            "Hasil penjumlahan: 15\n"
          ]
        }
      ],
      "source": [
        "print(\"Selamat datang di Google Colab!\")\n",
        "#Contoh perhitungan sederhana:\n",
        "\n",
        "x = 10\n",
        "y = 5\n",
        "print(\"Hasil penjumlahan:\", x + y)\n"
      ]
    },
    {
      "cell_type": "markdown",
      "source": [
        "# Step 2: Dasar-Dasar Pemrograman Python di Google Colab"
      ],
      "metadata": {
        "id": "ylHIRemTJ3iP"
      }
    },
    {
      "cell_type": "markdown",
      "source": [
        "**Variabel dan Tipe Data**"
      ],
      "metadata": {
        "id": "2QxaHoHxKC1y"
      }
    },
    {
      "cell_type": "code",
      "source": [
        "# Variabel numerik\n",
        "angka = 42\n",
        "print(\"Angka:\", angka)\n",
        "\n",
        "# String\n",
        "teks = \"Pelatihan Google Colab\"\n",
        "print(\"Teks:\", teks)\n",
        "\n",
        "# List\n",
        "data_list = [1, 2, 3, 4, 5]\n",
        "print(\"List angka:\", data_list)\n"
      ],
      "metadata": {
        "colab": {
          "base_uri": "https://localhost:8080/"
        },
        "id": "N2xoiTccFBq1",
        "outputId": "b000ddf0-bad5-45c9-f9e1-b7493943be07"
      },
      "execution_count": 5,
      "outputs": [
        {
          "output_type": "stream",
          "name": "stdout",
          "text": [
            "Angka: 42\n",
            "Teks: Pelatihan Google Colab\n",
            "List angka: [1, 2, 3, 4, 5]\n"
          ]
        }
      ]
    },
    {
      "cell_type": "markdown",
      "source": [
        "**Struktur Kontrol Dasar**"
      ],
      "metadata": {
        "id": "-CWyCVYFKIZt"
      }
    },
    {
      "cell_type": "code",
      "source": [
        "# If-Else\n",
        "nilai = 75\n",
        "if nilai >= 70:\n",
        "    print(\"Lulus\")\n",
        "else:\n",
        "    print(\"Tidak Lulus\")\n",
        "\n",
        "# Looping dengan For\n",
        "for i in range(5):\n",
        "    print(\"Iterasi ke-\", i)\n",
        "\n",
        "# Looping dengan While\n",
        "count = 0\n",
        "while count < 3:\n",
        "    print(\"Perulangan ke-\", count)\n",
        "    count += 1\n"
      ],
      "metadata": {
        "colab": {
          "base_uri": "https://localhost:8080/"
        },
        "id": "LkhQkmbAFGQ2",
        "outputId": "a2aa1dda-3619-4974-fcf9-6ede8233ac2e"
      },
      "execution_count": 6,
      "outputs": [
        {
          "output_type": "stream",
          "name": "stdout",
          "text": [
            "Lulus\n",
            "Iterasi ke- 0\n",
            "Iterasi ke- 1\n",
            "Iterasi ke- 2\n",
            "Iterasi ke- 3\n",
            "Iterasi ke- 4\n",
            "Perulangan ke- 0\n",
            "Perulangan ke- 1\n",
            "Perulangan ke- 2\n"
          ]
        }
      ]
    },
    {
      "cell_type": "markdown",
      "source": [
        "**Menggunakan Pustaka Eksternal**"
      ],
      "metadata": {
        "id": "wCb0utjbKNdu"
      }
    },
    {
      "cell_type": "code",
      "source": [
        "import numpy as np\n",
        "import pandas as pd\n",
        "\n",
        "# Membuat array NumPy\n",
        "array = np.array([1, 2, 3, 4, 5])\n",
        "print(\"Array NumPy:\", array)\n",
        "\n",
        "# Membuat DataFrame Pandas\n",
        "data = {'Nama': ['Alice', 'Bob', 'Charlie'], 'Umur': [25, 30, 22]}\n",
        "df = pd.DataFrame(data)\n",
        "print(\"DataFrame Pandas:\\n\", df)\n"
      ],
      "metadata": {
        "colab": {
          "base_uri": "https://localhost:8080/"
        },
        "id": "Eo8HGVY6FR4e",
        "outputId": "1151ea59-5133-456f-fcc5-cc3708835ed7"
      },
      "execution_count": 7,
      "outputs": [
        {
          "output_type": "stream",
          "name": "stdout",
          "text": [
            "Array NumPy: [1 2 3 4 5]\n",
            "DataFrame Pandas:\n",
            "       Nama  Umur\n",
            "0    Alice    25\n",
            "1      Bob    30\n",
            "2  Charlie    22\n"
          ]
        }
      ]
    },
    {
      "cell_type": "markdown",
      "source": [
        "**Visualisasi Data dengan Matplotlib**"
      ],
      "metadata": {
        "id": "IWfjE6j3LFoq"
      }
    },
    {
      "cell_type": "code",
      "source": [
        "import matplotlib.pyplot as plt\n",
        "\n",
        "# Data untuk plot\n",
        "tahun = [2018, 2019, 2020, 2021, 2022]\n",
        "populasi = [1.5, 1.7, 2.0, 2.3, 2.7]\n",
        "\n",
        "plt.plot(tahun, populasi, marker='o', linestyle='-', color='b')\n",
        "plt.xlabel(\"Tahun\")\n",
        "plt.ylabel(\"Populasi (juta)\")\n",
        "plt.title(\"Pertumbuhan Populasi\")\n",
        "plt.show()\n"
      ],
      "metadata": {
        "colab": {
          "base_uri": "https://localhost:8080/",
          "height": 472
        },
        "id": "_jiq4MAVLHLi",
        "outputId": "e4cad615-d1af-4d4a-8008-1db7bf858c33"
      },
      "execution_count": 8,
      "outputs": [
        {
          "output_type": "display_data",
          "data": {
            "text/plain": [
              "<Figure size 640x480 with 1 Axes>"
            ],
            "image/png": "[encoded data removed]"
          },
          "metadata": {}
        }
      ]
    },
    {
      "cell_type": "markdown",
      "source": [
        "# Eksplorasi tambahan untuk pengenalan Python lanjutan dan Statistika di Python"
      ],
      "metadata": {
        "id": "-LwkOZoMLh39"
      }
    },
    {
      "cell_type": "markdown",
      "source": [
        "**1. Introduction to Python**\n",
        "\n",
        "Tujuan:\n",
        "* Memahami dasar-dasar pemrograman Python.\n",
        "* Mampu menulis dan menjalankan kode Python sederhana.\n",
        "\n",
        "Materi:\n",
        "* Variabel dan Tipe Data\n",
        "* Operator\n",
        "* Struktur Kontrol (if, for, while)\n",
        "* Fungsi"
      ],
      "metadata": {
        "id": "RmJ6wi8ZL-Bz"
      }
    },
    {
      "cell_type": "code",
      "source": [
        "# Deklarasi variabel dan tipe data\n",
        "nama = \"Mahasiswa\" # Variabel `nama` bertipe string (str)\n",
        "usia = 20 # Variabel `usia` bertipe integer (int)\n",
        "tinggi = 1.75 # Variabel `tinggi` bertipe float\n",
        "is_student = True # Variabel `is_student` bertipe boolean (bool)\n",
        "\n",
        "print(f\"Nama: {nama}, Usia: {usia}, Tinggi: {tinggi}, Status Mahasiswa: {is_student}\")\n",
        "\n",
        "# Operator\n",
        "x = 5\n",
        "y = 2\n",
        "penjumlahan = x + y # Operator `+` untuk penjumlahan\n",
        "pengurangan = x - y # Operator `-` untuk pengurangan\n",
        "perkalian = x * y # Operator `*` untuk perkalian\n",
        "pembagian = x / y  # Operator `/` untuk pembagian (hasil float)\n",
        "modulus = x % y  # Operator `%` untuk sisa bagi (modulus)\n",
        "\n",
        "print(\"Penjumlahan:\", penjumlahan)\n",
        "print(\"Pengurangan:\", pengurangan)\n",
        "print(\"Perkalian:\", perkalian)\n",
        "print(\"Pembagian:\", pembagian)\n",
        "print(\"Modulus:\", modulus)\n",
        "\n",
        "# Struktur Kontrol\n",
        "for i in range(5):\n",
        "    print(\"Perulangan ke-\", i)\n",
        "\n",
        "if usia > 18:\n",
        "    print(\"Mahasiswa berusia di atas 18 tahun.\")\n",
        "\n",
        "# Fungsi\n",
        "def sapa(nama):\n",
        "    return f\"Halo, {nama}!\"\n",
        "\n",
        "print(sapa(\"Mahasiswa\"))\n"
      ],
      "metadata": {
        "colab": {
          "base_uri": "https://localhost:8080/"
        },
        "id": "p8s4WSn2LqiL",
        "outputId": "d7868e89-942c-445e-959a-21a289d0e93f"
      },
      "execution_count": 9,
      "outputs": [
        {
          "output_type": "stream",
          "name": "stdout",
          "text": [
            "Nama: Mahasiswa, Usia: 20, Tinggi: 1.75, Status Mahasiswa: True\n",
            "Penjumlahan: 7\n",
            "Pengurangan: 3\n",
            "Perkalian: 10\n",
            "Pembagian: 2.5\n",
            "Modulus: 1\n",
            "Perulangan ke- 0\n",
            "Perulangan ke- 1\n",
            "Perulangan ke- 2\n",
            "Perulangan ke- 3\n",
            "Perulangan ke- 4\n",
            "Mahasiswa berusia di atas 18 tahun.\n",
            "Halo, Mahasiswa!\n"
          ]
        }
      ]
    },
    {
      "cell_type": "markdown",
      "source": [
        "**2. Statistics and Probability in Data Science**\n",
        "\n",
        "Tujuan:\n",
        "* Memahami konsep dasar statistik dan probabilitas yang digunakan dalam data sains.\n",
        "* Mampu menghitung statistik dasar dan probabilitas sederhana menggunakan Python.\n",
        "\n",
        "Materi:\n",
        "* Mean, Median, Mode\n",
        "* Variance dan Standard Deviation\n",
        "* Distribusi Probabilitas"
      ],
      "metadata": {
        "id": "mdbkmv0zMJhC"
      }
    },
    {
      "cell_type": "code",
      "source": [
        "import numpy as np\n",
        "from scipy import stats\n",
        "\n",
        "# Data sample\n",
        "data = [12, 15, 12, 15, 16, 18, 19, 20, 22, 25]\n",
        "\n",
        "# Mean, Median, Mode\n",
        "mean = np.mean(data)\n",
        "median = np.median(data)\n",
        "mode = stats.mode(data)\n",
        "\n",
        "print(\"Mean:\", mean)\n",
        "print(\"Median:\", median)\n",
        "print(\"Mode:\", mode.mode)\n",
        "\n",
        "# Variance dan Standard Deviation\n",
        "variance = np.var(data)\n",
        "std_dev = np.std(data)\n",
        "\n",
        "print(\"Variance:\", variance)\n",
        "print(\"Standard Deviation:\", std_dev)\n",
        "\n",
        "# Distribusi Probabilitas: Binomial\n",
        "n = 10  # Jumlah percobaan\n",
        "p = 0.5  # Probabilitas sukses\n",
        "k = 6  # Jumlah sukses\n",
        "\n",
        "binom_prob = stats.binom.pmf(k, n, p)\n",
        "print(f\"Probabilitas mendapatkan {k} sukses dalam {n} percobaan:\", binom_prob)\n"
      ],
      "metadata": {
        "colab": {
          "base_uri": "https://localhost:8080/"
        },
        "id": "_K0obtRRMOD7",
        "outputId": "b9382ebe-9ad4-440d-840d-2fdd7b0fca69"
      },
      "execution_count": 10,
      "outputs": [
        {
          "output_type": "stream",
          "name": "stdout",
          "text": [
            "Mean: 17.4\n",
            "Median: 17.0\n",
            "Mode: 12\n",
            "Variance: 16.04\n",
            "Standard Deviation: 4.004996878900157\n",
            "Probabilitas mendapatkan 6 sukses dalam 10 percobaan: 0.2050781249999999\n"
          ]
        }
      ]
    },
    {
      "cell_type": "markdown",
      "source": [
        "**2. Statistics and Probability in Data Science (*Contoh lain dari sample data*)**"
      ],
      "metadata": {
        "id": "bSRruBSwPU2m"
      }
    },
    {
      "cell_type": "code",
      "source": [
        "import pandas as pd\n",
        "from scipy import stats\n",
        "\n",
        "# Mengimpor data dari file CSV\n",
        "data_df = pd.read_csv('/content/sample_data/california_housing_test.csv')\n",
        "\n",
        "# Mengambil kolom data sebagai array\n",
        "data = data_df['total_rooms'].values\n",
        "\n",
        "# Menghitung Mean, Median, dan Mode\n",
        "mean = data_df['total_rooms'].mean()\n",
        "median = data_df['total_rooms'].median()\n",
        "mode = stats.mode(data)\n",
        "\n",
        "print(\"Mean:\", mean)\n",
        "print(\"Median:\", median)\n",
        "print(\"Mode:\", mode.mode)\n",
        "\n",
        "# Menghitung Variance dan Standard Deviation\n",
        "variance = data_df['total_rooms'].var()\n",
        "std_dev = data_df['total_rooms'].std()\n",
        "\n",
        "print(\"Variance:\", variance)\n",
        "print(\"Standard Deviation:\", std_dev)"
      ],
      "metadata": {
        "colab": {
          "base_uri": "https://localhost:8080/"
        },
        "id": "hA2VwknVPVdm",
        "outputId": "b66b6c5b-2661-453a-a399-b1d7a76e8da2"
      },
      "execution_count": 11,
      "outputs": [
        {
          "output_type": "stream",
          "name": "stdout",
          "text": [
            "Mean: 2599.578666666667\n",
            "Median: 2106.0\n",
            "Mode: 907.0\n",
            "Variance: 4646582.611348667\n",
            "Standard Deviation: 2155.59333162558\n"
          ]
        }
      ]
    }
  ]
}